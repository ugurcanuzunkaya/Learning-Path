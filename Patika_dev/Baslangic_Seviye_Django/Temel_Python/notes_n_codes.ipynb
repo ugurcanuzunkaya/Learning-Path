{
 "cells": [
  {
   "cell_type": "markdown",
   "metadata": {},
   "source": [
    "Data Objects\n",
    "- Scalar: Daha alt parçalara bölünemeyen yapılar (sayılar vs.)\n",
    "    - Integer: Tam sayılar. int() fonksiyonu ile istenilen şeyi tam sayıya çevirmeye çalışır.\n",
    "    - Float: Kesirli sayılar. float() fonksiyonu ile istenilen şeyi kesirli sayıya çevirmeye çalışır.\n",
    "    - Boolean: True/False değerleri (sayısalları 1/0)\n",
    "- Non-scalar: Daha alt parçalara bölünebilen, içsel yapısına erişilebilen yapılar (listeler vs.)\n",
    "    - String: Metinsel veri. str() fonksiyonu ile istenilen şeyi metinsel veriye çevirmeye çalışır. \"\" veya '' arasına yazılan şeyi metinsel veri olarak kabul eder. \n",
    "<br>\n",
    "\n",
    "Veri Tipleri\n",
    "- Mutable: Değiştirilebilen. İçindeki parçaları/elemanları değiştirebiliriz. (Listeler, Dictonaries, Sets vs.)\n",
    "- Immutable: Değiştirilemez. İçindeki parçaları/elemanları değiştiremeyiz. (Tuples, Strings vs.)"
   ]
  },
  {
   "cell_type": "markdown",
   "metadata": {},
   "source": [
    "Fonksiyonlar\n",
    "- type(): Yapı tipini gösterir.\n"
   ]
  },
  {
   "cell_type": "markdown",
   "metadata": {},
   "source": [
    "Operatörler\n",
    "- +: Toplama, -: Çıkarma, *: Çarpma, /: Bölme (float olarak çevirir), %: Mod, **: Üs, //: Tam bölme (direkt int olarak çevirir)\n",
    "- <: Küçük, >: Büyük, <=: Küçük veya eşit, >=: Büyük veya eşit, ==: Eşitlik, !=: Eşit değil\n",
    "- and: ve, or: veya, not: değil, in: içerik var mı?, not in: içerik yok mu?, is: eşit mi?, is not: eşit değil mi?\n",
    "- \\': Kesme işareti, \\n: Satır başı, \\t: Tab, \\\\: \\' için escape karakteri, \\\": Tırnak, \\b: Silme (sadece command line'da geçerli), \\r: Silme\n"
   ]
  },
  {
   "cell_type": "code",
   "execution_count": 11,
   "metadata": {},
   "outputs": [
    {
     "name": "stdout",
     "output_type": "stream",
     "text": [
      "Let's go!\n",
      "Have a chat.\n",
      "\n",
      "How are you?\t Fine too.\n",
      "\\ss\n",
      "\"Lets go!\" is wrong.\n",
      " nice thing.\n"
     ]
    }
   ],
   "source": [
    "# - \\': Kesme işareti, \\n: Satır başı, \\t: Tab, \\\\: \\' için escape karakteri, \\\": Tırnak, \\b: Silme (sadece command line'da geçerli), \\r: Silme\n",
    "print(\"Let\\'s go!\")\n",
    "print(\"Have a chat.\\n\")\n",
    "print(\"How are you?\\t Fine too.\")\n",
    "print(\"\\\\ss\")\n",
    "print(\"\\\"Lets go!\\\" is wrong.\")\n",
    "print(\"sadkjasld \\r nice thing.\")\n",
    "\n"
   ]
  },
  {
   "cell_type": "markdown",
   "metadata": {},
   "source": [
    "String\n",
    "- Tek tırnak ('') veya çift tırnaklar (\"\") arasına yazılan her şeyi Python otomatik olarak string olarak algılamaktadır. Tırnak arasındaki her şeyi karakter olarak yazı olarak görmektedir Python.\n",
    "- String bir non-scalar objedir. Yani daha alt parçalara bölünübilen ve elemanlar içeren yapılardır. Aynı zamanda immutabledır. Yani elemanlarında değişiklik yapılamaz.\n",
    "- İçerde kesme işareti olan bir karakter dizini yapacaksanız veya alıntı yapılacak bir şey yapacaksanız örnekteki gibi yapmanız hata almadan kullanabilmenizi sağlar."
   ]
  },
  {
   "cell_type": "code",
   "execution_count": 3,
   "metadata": {},
   "outputs": [
    {
     "name": "stdout",
     "output_type": "stream",
     "text": [
      "Bugün Kadıöy'e gidiyorum\n",
      "Bana \"Bugün ne yapıyorsun\" dedi.\n"
     ]
    }
   ],
   "source": [
    "# Örnek\n",
    "print(\"Bugün Kadıöy'e gidiyorum\")  # Kesme işaretli örnek\n",
    "print('Bana \"Bugün ne yapıyorsun\" dedi.')  # Alıntılı örnek"
   ]
  },
  {
   "cell_type": "markdown",
   "metadata": {},
   "source": [
    "- Stringleri bir değişkene atayabiliyoruz. Sayı veya farklı şeylerin atamasını yapar gibi.\n",
    "- İki string arasına toplama işareti (+) yazıldığında toplama olarak düşünülmemelidir. İkisini direkt olarak birleştiriyor. Aşağıdaki gibi sayıları toplayacağını düşünebiliriz fakat string olduğundan otomatik olarak ikisini birleştirir toplamaz. Aynı şekilde kelimeleri birleştirmelerinde veya string dışındaki değerleri str() fonksiyonu kullanıp string hale getirip de birleştirebiliriz.\n",
    "- Toplama işaretine (+) benzer çarpı işareti (*) de yazıldığı stringi kaç yazıldıysa o kadar defa birbirine birleştiriyor. Aşağıdaki örnekteki gibi hey kelimesini 10 defa ardına ardına birleştirerek yazarak bastırdı ekrana.\n",
    "- len() metodu ile stringde kaç tane eleman var olduğunu öğrenmek için kullanabiliriz. Harf, sayı, boşluk gibi her şeyi karakter olarak algılamaktadır."
   ]
  },
  {
   "cell_type": "code",
   "execution_count": 5,
   "metadata": {},
   "outputs": [
    {
     "name": "stdout",
     "output_type": "stream",
     "text": [
      "54\n",
      "chocolate\n",
      "heyheyheyheyheyheyheyheyheyhey\n"
     ]
    }
   ],
   "source": [
    "print(\"5\" + \"4\")  # Sayılı + birleştirme\n",
    "print(\"choco\" + \"late\")  # Kelimeli + birleştirme\n",
    "print(\"hey\"*10)  # Tekrarlı birleştirme *\n"
   ]
  },
  {
   "cell_type": "markdown",
   "metadata": {},
   "source": [
    "- Stringlerde indexing (elemana erişme) string_name[index] ile index yerine yazılan tam sayı ile istenen elemana erişim sağlanır.\n",
    "<br>\n",
    "```python\n",
    "        name = \"Ali\"\n",
    "        print(name[0]) # prints out A\n",
    "        print(name[-2]) # prints out l\n",
    "```\n",
    "- len() fonksiyonu ile uzunluğu kontrol edilerek 0'dan uzunluk - 1'e kadar stringdeki elemanlara erişilebilir.\n",
    "- Eksi sayılarda kullanılabilir bu sefer soldan sağa sırayla değil sağdan sola sırayla giderek istenen indexi bulur. Burda da -1'den -(uzunluk)'a kadar gider.\n",
    "- Slicing yapılabilir. Aynı şekilde string_name[start:stop:step] şeklinde çalışır. Ters için yine eksi değerler kullanılabilir. default start = 0, default stop = len(string_name) - 1, default step = 1\n",
    "- Eksi değerleri kullanırken slicingde dikkat edilmesi gereken başlangıç bitişten büyük olmalıdır yoksa boş döndürür. \n",
    "- Eğer istenen noktadan en başa gidilecekse stop kısmı boş bırakılarak otomatik en başa döner. \n",
    "- Eğer start ve stop boş bırakılırsa sondan başa ters olarak yazılmış olarak çevirir.\n",
    "- Slicingde bitiş kısmı için illa string uzunluğu olmak zorunda değil daha büyük değer yazsak bile sadece string max nereye kadar alıyorsa onu alır."
   ]
  },
  {
   "cell_type": "markdown",
   "metadata": {},
   "source": [
    "- String'de eğer sadece sayısal değer varsa float ve int'e çevirilebilir. Eğer noktalı bir sayısal varsa direkt int'e çeviremez önce float sonra int'e çevirilmesi gerekir."
   ]
  }
 ],
 "metadata": {
  "kernelspec": {
   "display_name": "Python 3.10.5 64-bit",
   "language": "python",
   "name": "python3"
  },
  "language_info": {
   "codemirror_mode": {
    "name": "ipython",
    "version": 3
   },
   "file_extension": ".py",
   "mimetype": "text/x-python",
   "name": "python",
   "nbconvert_exporter": "python",
   "pygments_lexer": "ipython3",
   "version": "3.10.5"
  },
  "orig_nbformat": 4,
  "vscode": {
   "interpreter": {
    "hash": "26de051ba29f2982a8de78e945f0abaf191376122a1563185a90213a26c5da77"
   }
  }
 },
 "nbformat": 4,
 "nbformat_minor": 2
}
